{
 "cells": [
  {
   "cell_type": "code",
   "execution_count": 1,
   "metadata": {},
   "outputs": [],
   "source": [
    "import warnings\n",
    "warnings.filterwarnings(\"ignore\", category=DeprecationWarning)\n",
    "import math\n",
    "import urllib\n",
    "import os\n",
    "import os.path as osp\n",
    "import nbformat\n",
    "import json\n",
    "import ssl\n",
    "import sys\n",
    "import time\n",
    "import hashlib\n",
    "import pickle\n",
    "import io\n",
    "import random\n",
    "import getpass\n",
    "import inspect\n",
    "import socket\n",
    "import tempfile\n",
    "from datetime import datetime, date\n",
    "from datetime import timedelta\n",
    "\n",
    "import matplotlib\n",
    "import pylab # for side effects on matplotlib\n",
    "import pandas as pd\n",
    "import numpy as np\n",
    "import IPython.display as ipd\n"
   ]
  },
  {
   "cell_type": "code",
   "execution_count": 2,
   "metadata": {},
   "outputs": [],
   "source": [
    "#functions\n",
    "def array_to_html(arr, row_names=None, col_names=None, title=None):\n",
    "    ''' array_to_html, if placed at the end of a Anaconda cell, will\n",
    "        display the array in html.   It uses pandas.\n",
    "    '''\n",
    "    if len(arr.shape) not in [1, 2]:\n",
    "        print('The array must be a one- or two-dimensional array. This array is',\n",
    "             len(arr.shape), 'dimensions')\n",
    "        return\n",
    "\n",
    "    if title:\n",
    "        ipd.display(ipd.HTML('<h1>' + title + '</h1>'))\n",
    "    df = pd.DataFrame(arr, index=row_names, columns=col_names)\n",
    "    return ipd.display(ipd.HTML(df.to_html()))\n",
    "def separate(string):\n",
    "    separated=[]\n",
    "    semic=[-1]\n",
    "    reverse=string[::-1]\n",
    "    lastword=string[-reverse.find(';'):-1]\n",
    "    for posi in range(len(string)):\n",
    "        if string[posi]==';':\n",
    "            semic.append(posi)\n",
    "    for positionx in range(len(semic)-1):\n",
    "        word=string[semic[positionx]+1:semic[positionx+1]]\n",
    "        separated.append(float(word))\n",
    "    separated.append(float(lastword))\n",
    "    return separated\n",
    "def notuntillfloat(name):\n",
    "    a = input(name)\n",
    "    try:\n",
    "        b= float(a)\n",
    "    except ValueError:\n",
    "        print('Please enter a float')\n",
    "        a= float(notuntillfloat(name))\n",
    "    return a\n",
    "#notuntillfloat('Please enter the Target OD 600 ')\n",
    "def notuntillint(name):\n",
    "    a = input(name)\n",
    "    try:\n",
    "        b= int(a)\n",
    "    except ValueError:\n",
    "        print('Please enter an integer')\n",
    "        a= int(notuntillint(name))\n",
    "    return a\n",
    "#notuntillint('Please enter the total number of samples you have ')\n",
    "def notuntillindex(name,array):\n",
    "    a = int(notuntillint(name))\n",
    "    try:\n",
    "        b= array[a-1]\n",
    "    except IndexError:\n",
    "        print('The index you entered is out of bound. Please enter the currect position')\n",
    "        a= int(notuntillindex(name,array))\n",
    "    return a\n",
    "#notuntillindex('Please enter the number of samples you want to change ',[1,2,3,4,5])"
   ]
  },
  {
   "cell_type": "code",
   "execution_count": 3,
   "metadata": {},
   "outputs": [
    {
     "name": "stdout",
     "output_type": "stream",
     "text": [
      "Please enter the start time in 24h (hh:mm): 12:50\n",
      "Please enter the end time (hh:mm): 1:20\n",
      "The time difference is: 12hours 30minutes\n",
      "The time difference for the following program is: 12.5\n"
     ]
    }
   ],
   "source": [
    "#time calculator\n",
    "starttime=input('Please enter the start time in 24h (hh:mm): ')\n",
    "endtime=input('Please enter the end time (hh:mm): ')\n",
    "st=starttime.split(':')\n",
    "et=endtime.split(':')\n",
    "hr=int(et[0])-int(st[0])\n",
    "if hr<0:\n",
    "    hr+=24\n",
    "mins=int(et[1])-int(st[1])\n",
    "if mins<0:\n",
    "    mins+=60\n",
    "    hr-=1\n",
    "diff=mins/60\n",
    "hr2=hr+diff\n",
    "print('The time difference is: '+str(hr)+'hours '+str(mins)+'minutes')\n",
    "print('The time difference for the following program is: '+str(hr2))"
   ]
  },
  {
   "cell_type": "code",
   "execution_count": 3,
   "metadata": {},
   "outputs": [
    {
     "name": "stdout",
     "output_type": "stream",
     "text": [
      "The Diluter V4.2.1---Created by Harry Wang\n",
      "If the program does not work, please restart it from the first cell.\n",
      "You can directly copy the result to Ecxel\n",
      "If you have enough confidence, please use The Diluter Advanced. Stop this program first.\n",
      "Please enter the Target OD 600: 0.8\n",
      "Please enter the number of hours you will grow the culture (hours): 12\n",
      "Please enter the desired culture volume (ml): 5\n",
      "Please enter the doubling time of your strain (hours): 2\n",
      "Please enter the total number of samples you have: 1\n",
      "Please enter the volume (mL) of samples you have: 4\n"
     ]
    },
    {
     "data": {
      "text/html": [
       "<h1>Please Check The Conditions for Cultivation</h1>"
      ],
      "text/plain": [
       "<IPython.core.display.HTML object>"
      ]
     },
     "metadata": {},
     "output_type": "display_data"
    },
    {
     "data": {
      "text/html": [
       "<table border=\"1\" class=\"dataframe\">\n",
       "  <thead>\n",
       "    <tr style=\"text-align: right;\">\n",
       "      <th></th>\n",
       "      <th>Target OD 600</th>\n",
       "      <th>Number of hours for growth</th>\n",
       "      <th>Desired culture volume</th>\n",
       "      <th>Doubling time</th>\n",
       "      <th>Number of samples</th>\n",
       "      <th>Sample volume</th>\n",
       "    </tr>\n",
       "  </thead>\n",
       "  <tbody>\n",
       "    <tr>\n",
       "      <th>Conditions</th>\n",
       "      <td>0.8</td>\n",
       "      <td>12.0</td>\n",
       "      <td>5.0</td>\n",
       "      <td>2.0</td>\n",
       "      <td>1.0</td>\n",
       "      <td>4.0</td>\n",
       "    </tr>\n",
       "  </tbody>\n",
       "</table>"
      ],
      "text/plain": [
       "<IPython.core.display.HTML object>"
      ]
     },
     "metadata": {},
     "output_type": "display_data"
    },
    {
     "name": "stdout",
     "output_type": "stream",
     "text": [
      "If you need to change the conditions, please restart the program\n",
      "Please enter the Current OD 600 for sample 1: 2.3\n",
      "The datatable table entered: \n"
     ]
    },
    {
     "data": {
      "text/html": [
       "<h1>The Data Entered</h1>"
      ],
      "text/plain": [
       "<IPython.core.display.HTML object>"
      ]
     },
     "metadata": {},
     "output_type": "display_data"
    },
    {
     "data": {
      "text/html": [
       "<table border=\"1\" class=\"dataframe\">\n",
       "  <thead>\n",
       "    <tr style=\"text-align: right;\">\n",
       "      <th></th>\n",
       "      <th>Current OD</th>\n",
       "      <th>Amount need to add (ul)</th>\n",
       "    </tr>\n",
       "  </thead>\n",
       "  <tbody>\n",
       "    <tr>\n",
       "      <th>1</th>\n",
       "      <td>2.3</td>\n",
       "      <td>27.173913</td>\n",
       "    </tr>\n",
       "  </tbody>\n",
       "</table>"
      ],
      "text/plain": [
       "<IPython.core.display.HTML object>"
      ]
     },
     "metadata": {},
     "output_type": "display_data"
    },
    {
     "name": "stdout",
     "output_type": "stream",
     "text": [
      "Do you need to change any data? Please enter  'y' or 'n': y\n",
      "Please enter the number of changes you want to make(include th change of conditions): 0\n"
     ]
    },
    {
     "data": {
      "text/html": [
       "<h1>Current Conditions for Cultivation</h1>"
      ],
      "text/plain": [
       "<IPython.core.display.HTML object>"
      ]
     },
     "metadata": {},
     "output_type": "display_data"
    },
    {
     "data": {
      "text/html": [
       "<table border=\"1\" class=\"dataframe\">\n",
       "  <thead>\n",
       "    <tr style=\"text-align: right;\">\n",
       "      <th></th>\n",
       "      <th>Target OD 600</th>\n",
       "      <th>Number of hours for growth</th>\n",
       "      <th>Desired culture volume</th>\n",
       "      <th>Doubling time</th>\n",
       "      <th>Number of samples</th>\n",
       "      <th>Sample volume</th>\n",
       "    </tr>\n",
       "  </thead>\n",
       "  <tbody>\n",
       "    <tr>\n",
       "      <th>Conditions</th>\n",
       "      <td>0.8</td>\n",
       "      <td>12.0</td>\n",
       "      <td>5.0</td>\n",
       "      <td>2.0</td>\n",
       "      <td>1.0</td>\n",
       "      <td>4.0</td>\n",
       "    </tr>\n",
       "  </tbody>\n",
       "</table>"
      ],
      "text/plain": [
       "<IPython.core.display.HTML object>"
      ]
     },
     "metadata": {},
     "output_type": "display_data"
    },
    {
     "data": {
      "text/html": [
       "<h1>The new result</h1>"
      ],
      "text/plain": [
       "<IPython.core.display.HTML object>"
      ]
     },
     "metadata": {},
     "output_type": "display_data"
    },
    {
     "data": {
      "text/html": [
       "<table border=\"1\" class=\"dataframe\">\n",
       "  <thead>\n",
       "    <tr style=\"text-align: right;\">\n",
       "      <th></th>\n",
       "      <th>Current OD</th>\n",
       "      <th>Amount need to add (ul)</th>\n",
       "    </tr>\n",
       "  </thead>\n",
       "  <tbody>\n",
       "    <tr>\n",
       "      <th>1</th>\n",
       "      <td>2.3</td>\n",
       "      <td>27.173913</td>\n",
       "    </tr>\n",
       "  </tbody>\n",
       "</table>"
      ],
      "text/plain": [
       "<IPython.core.display.HTML object>"
      ]
     },
     "metadata": {},
     "output_type": "display_data"
    },
    {
     "name": "stdout",
     "output_type": "stream",
     "text": [
      "Do you need to change any data? Please enter  'y' or 'n': y\n",
      "Please enter the number of changes you want to make(include th change of conditions): 0\n"
     ]
    },
    {
     "data": {
      "text/html": [
       "<h1>Current Conditions for Cultivation</h1>"
      ],
      "text/plain": [
       "<IPython.core.display.HTML object>"
      ]
     },
     "metadata": {},
     "output_type": "display_data"
    },
    {
     "data": {
      "text/html": [
       "<table border=\"1\" class=\"dataframe\">\n",
       "  <thead>\n",
       "    <tr style=\"text-align: right;\">\n",
       "      <th></th>\n",
       "      <th>Target OD 600</th>\n",
       "      <th>Number of hours for growth</th>\n",
       "      <th>Desired culture volume</th>\n",
       "      <th>Doubling time</th>\n",
       "      <th>Number of samples</th>\n",
       "      <th>Sample volume</th>\n",
       "    </tr>\n",
       "  </thead>\n",
       "  <tbody>\n",
       "    <tr>\n",
       "      <th>Conditions</th>\n",
       "      <td>0.8</td>\n",
       "      <td>12.0</td>\n",
       "      <td>5.0</td>\n",
       "      <td>2.0</td>\n",
       "      <td>1.0</td>\n",
       "      <td>4.0</td>\n",
       "    </tr>\n",
       "  </tbody>\n",
       "</table>"
      ],
      "text/plain": [
       "<IPython.core.display.HTML object>"
      ]
     },
     "metadata": {},
     "output_type": "display_data"
    },
    {
     "data": {
      "text/html": [
       "<h1>The new result</h1>"
      ],
      "text/plain": [
       "<IPython.core.display.HTML object>"
      ]
     },
     "metadata": {},
     "output_type": "display_data"
    },
    {
     "data": {
      "text/html": [
       "<table border=\"1\" class=\"dataframe\">\n",
       "  <thead>\n",
       "    <tr style=\"text-align: right;\">\n",
       "      <th></th>\n",
       "      <th>Current OD</th>\n",
       "      <th>Amount need to add (ul)</th>\n",
       "    </tr>\n",
       "  </thead>\n",
       "  <tbody>\n",
       "    <tr>\n",
       "      <th>1</th>\n",
       "      <td>2.3</td>\n",
       "      <td>27.173913</td>\n",
       "    </tr>\n",
       "  </tbody>\n",
       "</table>"
      ],
      "text/plain": [
       "<IPython.core.display.HTML object>"
      ]
     },
     "metadata": {},
     "output_type": "display_data"
    },
    {
     "name": "stdout",
     "output_type": "stream",
     "text": [
      "Do you need to change any data? Please enter  'y' or 'n': y\n",
      "Please enter the number of changes you want to make(include th change of conditions): 1\n",
      "Please enter the position of the sample you want to change(enter 0 if you want to change the conditions): 0\n",
      "You want to change the cultivation conditions\n",
      "Please enter the Target OD 600: 0.9\n",
      "Please enter the number of hours you will grow the culture (hours): 12\n",
      "Please enter the desired culture volume (ml): 5\n",
      "Please enter the doubling time of your strain (hours): 2\n",
      "Please enter the total number of samples you have: 1\n",
      "Please enter the volume (mL) of samples you have: 4\n"
     ]
    },
    {
     "data": {
      "text/html": [
       "<h1>Please Check The Conditions for Cultivation</h1>"
      ],
      "text/plain": [
       "<IPython.core.display.HTML object>"
      ]
     },
     "metadata": {},
     "output_type": "display_data"
    },
    {
     "data": {
      "text/html": [
       "<table border=\"1\" class=\"dataframe\">\n",
       "  <thead>\n",
       "    <tr style=\"text-align: right;\">\n",
       "      <th></th>\n",
       "      <th>Target OD 600</th>\n",
       "      <th>Number of hours for growth</th>\n",
       "      <th>Desired culture volume</th>\n",
       "      <th>Doubling time</th>\n",
       "      <th>Number of samples</th>\n",
       "      <th>Sample volume</th>\n",
       "    </tr>\n",
       "  </thead>\n",
       "  <tbody>\n",
       "    <tr>\n",
       "      <th>Conditions</th>\n",
       "      <td>0.9</td>\n",
       "      <td>12.0</td>\n",
       "      <td>5.0</td>\n",
       "      <td>2.0</td>\n",
       "      <td>1.0</td>\n",
       "      <td>4.0</td>\n",
       "    </tr>\n",
       "  </tbody>\n",
       "</table>"
      ],
      "text/plain": [
       "<IPython.core.display.HTML object>"
      ]
     },
     "metadata": {},
     "output_type": "display_data"
    },
    {
     "data": {
      "text/html": [
       "<h1>The new result under different conditions</h1>"
      ],
      "text/plain": [
       "<IPython.core.display.HTML object>"
      ]
     },
     "metadata": {},
     "output_type": "display_data"
    },
    {
     "data": {
      "text/html": [
       "<table border=\"1\" class=\"dataframe\">\n",
       "  <thead>\n",
       "    <tr style=\"text-align: right;\">\n",
       "      <th></th>\n",
       "      <th>Current OD</th>\n",
       "      <th>Amount need to add (ul)</th>\n",
       "    </tr>\n",
       "  </thead>\n",
       "  <tbody>\n",
       "    <tr>\n",
       "      <th>1</th>\n",
       "      <td>2.3</td>\n",
       "      <td>3.057065</td>\n",
       "    </tr>\n",
       "  </tbody>\n",
       "</table>"
      ],
      "text/plain": [
       "<IPython.core.display.HTML object>"
      ]
     },
     "metadata": {},
     "output_type": "display_data"
    },
    {
     "data": {
      "text/html": [
       "<h1>Current Conditions for Cultivation</h1>"
      ],
      "text/plain": [
       "<IPython.core.display.HTML object>"
      ]
     },
     "metadata": {},
     "output_type": "display_data"
    },
    {
     "data": {
      "text/html": [
       "<table border=\"1\" class=\"dataframe\">\n",
       "  <thead>\n",
       "    <tr style=\"text-align: right;\">\n",
       "      <th></th>\n",
       "      <th>Target OD 600</th>\n",
       "      <th>Number of hours for growth</th>\n",
       "      <th>Desired culture volume</th>\n",
       "      <th>Doubling time</th>\n",
       "      <th>Number of samples</th>\n",
       "      <th>Sample volume</th>\n",
       "    </tr>\n",
       "  </thead>\n",
       "  <tbody>\n",
       "    <tr>\n",
       "      <th>Conditions</th>\n",
       "      <td>0.9</td>\n",
       "      <td>12.0</td>\n",
       "      <td>5.0</td>\n",
       "      <td>2.0</td>\n",
       "      <td>1.0</td>\n",
       "      <td>4.0</td>\n",
       "    </tr>\n",
       "  </tbody>\n",
       "</table>"
      ],
      "text/plain": [
       "<IPython.core.display.HTML object>"
      ]
     },
     "metadata": {},
     "output_type": "display_data"
    },
    {
     "data": {
      "text/html": [
       "<h1>The new result</h1>"
      ],
      "text/plain": [
       "<IPython.core.display.HTML object>"
      ]
     },
     "metadata": {},
     "output_type": "display_data"
    },
    {
     "data": {
      "text/html": [
       "<table border=\"1\" class=\"dataframe\">\n",
       "  <thead>\n",
       "    <tr style=\"text-align: right;\">\n",
       "      <th></th>\n",
       "      <th>Current OD</th>\n",
       "      <th>Amount need to add (ul)</th>\n",
       "    </tr>\n",
       "  </thead>\n",
       "  <tbody>\n",
       "    <tr>\n",
       "      <th>1</th>\n",
       "      <td>2.3</td>\n",
       "      <td>3.057065</td>\n",
       "    </tr>\n",
       "  </tbody>\n",
       "</table>"
      ],
      "text/plain": [
       "<IPython.core.display.HTML object>"
      ]
     },
     "metadata": {},
     "output_type": "display_data"
    },
    {
     "name": "stdout",
     "output_type": "stream",
     "text": [
      "Do you need to change any data? Please enter  'y' or 'n': n\n"
     ]
    },
    {
     "data": {
      "text/html": [
       "<h1>The Final Conditions for Cultivation</h1>"
      ],
      "text/plain": [
       "<IPython.core.display.HTML object>"
      ]
     },
     "metadata": {},
     "output_type": "display_data"
    },
    {
     "data": {
      "text/html": [
       "<table border=\"1\" class=\"dataframe\">\n",
       "  <thead>\n",
       "    <tr style=\"text-align: right;\">\n",
       "      <th></th>\n",
       "      <th>Target OD 600</th>\n",
       "      <th>Number of hours for growth</th>\n",
       "      <th>Desired culture volume</th>\n",
       "      <th>Doubling time</th>\n",
       "      <th>Number of samples</th>\n",
       "      <th>Sample volume</th>\n",
       "    </tr>\n",
       "  </thead>\n",
       "  <tbody>\n",
       "    <tr>\n",
       "      <th>Conditions</th>\n",
       "      <td>0.9</td>\n",
       "      <td>12.0</td>\n",
       "      <td>5.0</td>\n",
       "      <td>2.0</td>\n",
       "      <td>1.0</td>\n",
       "      <td>4.0</td>\n",
       "    </tr>\n",
       "  </tbody>\n",
       "</table>"
      ],
      "text/plain": [
       "<IPython.core.display.HTML object>"
      ]
     },
     "metadata": {},
     "output_type": "display_data"
    },
    {
     "data": {
      "text/html": [
       "<h1>The Final result</h1>"
      ],
      "text/plain": [
       "<IPython.core.display.HTML object>"
      ]
     },
     "metadata": {},
     "output_type": "display_data"
    },
    {
     "data": {
      "text/html": [
       "<table border=\"1\" class=\"dataframe\">\n",
       "  <thead>\n",
       "    <tr style=\"text-align: right;\">\n",
       "      <th></th>\n",
       "      <th>Current OD</th>\n",
       "      <th>Amount need to add (ul)</th>\n",
       "    </tr>\n",
       "  </thead>\n",
       "  <tbody>\n",
       "    <tr>\n",
       "      <th>1</th>\n",
       "      <td>2.3</td>\n",
       "      <td>3.057065</td>\n",
       "    </tr>\n",
       "  </tbody>\n",
       "</table>"
      ],
      "text/plain": [
       "<IPython.core.display.HTML object>"
      ]
     },
     "metadata": {},
     "output_type": "display_data"
    }
   ],
   "source": [
    "## diluting culture\n",
    "print('The Diluter V4.3.1---Created by Harry Wang')\n",
    "print('If the program does not work, please restart it from the first cell.')\n",
    "print('You can directly copy the result to Ecxel')\n",
    "print('If you have enough confidence, please use The Diluter Advanced. Stop this program first.')\n",
    "maxresonableod=5\n",
    "targetod=float(notuntillfloat('Please enter the Target OD 600: '))\n",
    "if targetod>maxresonableod:\n",
    "    print('This OD is too large. Please check if you enter the wrong number')\n",
    "    targetod=float(notuntillfloat('Please reenter the Target OD 600: '))\n",
    "numofhours=float(notuntillfloat('Please enter the number of hours you will grow the culture (hours): '))\n",
    "desiredvol=float(notuntillfloat('Please enter the desired culture volume (ml): '))\n",
    "doublehr=float(notuntillfloat('Please enter the doubling time of your strain (hours): '))\n",
    "totalsample=int(notuntillint('Please enter the total number of samples you have: '))\n",
    "samplesize=float(notuntillfloat('Please enter the volume (mL) of samples you have: '))\n",
    "datatable=[]\n",
    "conditions=np.array([targetod,numofhours,desiredvol,doublehr,totalsample,samplesize])\n",
    "conditions=np.reshape(conditions,[1,6])\n",
    "array_to_html(conditions,row_names=['Conditions'],col_names=['Target OD 600','Number of hours for growth','Desired culture volume','Doubling time','Number of samples','Sample volume'],title='Please Check The Conditions for Cultivation')\n",
    "print('If you need to change the conditions, please restart the program')\n",
    "for i in range(totalsample):\n",
    "    d=i+1\n",
    "    currentod=float(notuntillfloat('Please enter the Current OD 600 for sample %d: '%(d)))\n",
    "    if currentod>maxresonableod:\n",
    "        print('This OD is too large. Please check if you enter the wrong number')\n",
    "        currentod=float(notuntillfloat('Please reenter the Current OD 600 for sample %d: '%(d)))\n",
    "    amt=(desiredvol*(targetod/currentod))/(2**(numofhours/doublehr))*1000\n",
    "    if (amt/1000)>samplesize:\n",
    "        suggesthr=doublehr*math.log(desiredvol*(targetod/currentod)*1000/samplesize, 2)\n",
    "        print('You do not have enough sample. Please restart the program and choose a larger number of hours ')\n",
    "        print('The minimum hours you need is :',suggesthr)\n",
    "    datatable.append([currentod,amt])\n",
    "datatable=np.array(datatable)\n",
    "print('The datatable table entered: ')\n",
    "array_to_html(datatable, row_names=range(1,len(datatable)+1),col_names=['Current OD','Amount need to add (ul)'], title='The Data Entered')\n",
    "#for item in datatable:\n",
    "    #print(item)\n",
    "change=input('Do you need to change any data? Please enter  \\'y\\' or \\'n\\': ')\n",
    "while change!='n':\n",
    "    num=int(notuntillint('Please enter the number of changes you want to make(include th change of conditions): '))\n",
    "    for j in range(num):\n",
    "        position = int(notuntillindex('Please enter the position of the sample you want to change(enter 0 if you want to change the conditions): ',datatable))\n",
    "        if position == 0:\n",
    "            print('You want to change the cultivation conditions')\n",
    "            targetod=float(notuntillfloat('Please enter the Target OD 600: '))\n",
    "            if targetod>maxresonableod:\n",
    "                print('This OD is too large. Please check if you enter the wrong number')\n",
    "                targetod=float(notuntillfloat('Please reenter the Target OD 600: '))\n",
    "            numofhours=float(notuntillfloat('Please enter the number of hours you will grow the culture (hours): '))\n",
    "            desiredvol=float(notuntillfloat('Please enter the desired culture volume (ml): '))\n",
    "            doublehr=float(notuntillfloat('Please enter the doubling time of your strain (hours): '))\n",
    "            totalsample=int(notuntillint('Please enter the total number of samples you have: '))\n",
    "            samplesize=float(notuntillfloat('Please enter the volume (mL) of samples you have: '))\n",
    "            conditions=np.array([targetod,numofhours,desiredvol,doublehr,totalsample,samplesize])\n",
    "            conditions=np.reshape(conditions,[1,6])\n",
    "            array_to_html(conditions,row_names=['Conditions'],col_names=['Target OD 600','Number of hours for growth','Desired culture volume','Doubling time','Number of samples','Sample volume'],title='Please Check The Conditions for Cultivation')\n",
    "            for j in range(len(datatable)):\n",
    "                datatable[j][1]=(desiredvol*(targetod/currentod))/(2**(numofhours/doublehr))*100\n",
    "            array_to_html(datatable, row_names=range(1,len(datatable)+1),col_names=['Current OD','Amount need to add (ul)'], title='The new result under different conditions')\n",
    "        else:\n",
    "            print('The value you want to change is: '+'Sample '+ str(position)+': OD '+str(datatable[position-1][0]))\n",
    "            newdata=float(notuntillfloat('Please enter the correct OD: '))\n",
    "            if newdata>maxresonableod:\n",
    "                print('This OD is too large. Please check if you enter the wrong number')\n",
    "                newdata=float(notuntillfloat('Please reenter the correct OD: '))\n",
    "            newvol=(desiredvol*(targetod/newdata))/(2**(numofhours/doublehr))*1000\n",
    "            datatable[position-1,0]=newdata\n",
    "            datatable[position-1,1]=newvol\n",
    "            print('The changed result is: '+'Sample '+ str(position)+': New OD '+str(datatable[position-1][0]))\n",
    "    array_to_html(conditions,row_names=['Conditions'],col_names=['Target OD 600','Number of hours for growth','Desired culture volume','Doubling time','Number of samples','Sample volume'],title='Current Conditions for Cultivation')\n",
    "    array_to_html(datatable, row_names=range(1,len(datatable)+1),col_names=['Current OD','Amount need to add (ul)'], title='The new result')\n",
    "    change=input('Do you need to change any data? Please enter  \\'y\\' or \\'n\\': ')\n",
    "array_to_html(conditions,row_names=['Conditions'],col_names=['Target OD 600','Number of hours for growth','Desired culture volume','Doubling time','Number of samples','Sample volume'],title='The Final Conditions for Cultivation')\n",
    "array_to_html(datatable, row_names=range(1,len(datatable)+1),col_names=['Current OD','Amount need to add (ul)'], title='The Final result')"
   ]
  },
  {
   "cell_type": "code",
   "execution_count": null,
   "metadata": {},
   "outputs": [],
   "source": [
    "# diluting culture advanced\n",
    "print('The Diluter Advanced V1.0.5---Created by Harry Wang')\n",
    "print('If the program does not work, please restart it.')\n",
    "print('You can directly copy the result to Ecxel')\n",
    "maxresonableod=5\n",
    "targetod=float(notuntillfloat('Please enter the Target OD 600: '))\n",
    "if targetod>maxresonableod:\n",
    "    print('This OD is too large. Please check if you enter the wrong number')\n",
    "    targetod=float(notuntillfloat('Please reenter the Target OD 600: '))\n",
    "numofhours=float(notuntillfloat('Please enter the number of hours you will grow the culture (hours): '))\n",
    "desiredvol=float(notuntillfloat('Please enter the desired culture volume (ml): '))\n",
    "doublehr=float(notuntillfloat('Please enter the doubling time of your strain (hours): '))\n",
    "datatable=[]\n",
    "conditions=np.array([targetod,numofhours,desiredvol,doublehr])\n",
    "conditions=np.reshape(conditions,[1,4])\n",
    "array_to_html(conditions,row_names=['Conditions'],col_names=['Target OD 600','Number of hours for growth','Desired culture volume','Doubling time'],title='Please Check The Conditions for Cultivation')\n",
    "print('If you need to change the conditions, please restart the program')\n",
    "total=input('Please enter the set of OD of all your samples to decimals separated with \\' ; \\' ')\n",
    "print('The datatable you entered for future reference: ')\n",
    "print(total)\n",
    "#totalinlist=separate(total)\n",
    "totalsample=np.array(total.split(';'))\n",
    "for i in range(len(totalsample)):\n",
    "    currentod=float(totalsample[i])\n",
    "    d=i+1\n",
    "    amt=(desiredvol*(targetod/currentod))/(2**(numofhours/doublehr))*1000\n",
    "    datatable.append([totalsample[i],amt])\n",
    "datatable=np.array(datatable)\n",
    "\n",
    "print('The datatable table entered: ')\n",
    "array_to_html(datatable, row_names=range(1,len(datatable)+1),col_names=['Current OD','Amount need to add (ul)'], title='The Data Entered')\n",
    "#for item in datatable:\n",
    "    #print(item)\n",
    "change=input('Do you need to change any data? Please enter  \\'y\\' or \\'n\\' ')\n",
    "while change!='n':\n",
    "    num=int(notuntillint('Please enter the number of samples you want to change: '))\n",
    "    for j in range(num):\n",
    "        position = int(notuntillindex('Please enter the position of the sample you want to change: ',datatable))\n",
    "        print('The value you want to change is: '+'Sample '+ str(position)+': OD '+str(datatable[position-1][0]))\n",
    "        newdata=float(notuntillfloat('Please enter the correct OD: '))\n",
    "        if newdata>maxresonableod:\n",
    "            print('This OD is too large. Please check if you enter the wrong number')\n",
    "            newdata=float(notuntillfloat('Please reenter the correct OD: '))\n",
    "        newvol=(desiredvol*(targetod/newdata))/(2**(numofhours/doublehr))*1000\n",
    "        datatable[position-1,0]=newdata\n",
    "        datatable[position-1,1]=newvol\n",
    "        print('The changed result is: '+'Sample '+ str(position)+': New OD '+str(datatable[position-1][0]))\n",
    "    array_to_html(datatable, row_names=range(1,len(datatable)+1),col_names=['Current OD','Amount need to add (ul)'], title='The new result')\n",
    "    change=input('Do you need to change any data? Please enter  \\'y\\' or \\'n\\' ')\n",
    "array_to_html(datatable, row_names=range(1,len(datatable)+1),col_names=['Current OD','Amount need to add (ul)'], title='The Final result')"
   ]
  },
  {
   "cell_type": "code",
   "execution_count": null,
   "metadata": {},
   "outputs": [],
   "source": []
  }
 ],
 "metadata": {
  "kernelspec": {
   "display_name": "Python 3",
   "language": "python",
   "name": "python3"
  },
  "language_info": {
   "codemirror_mode": {
    "name": "ipython",
    "version": 3
   },
   "file_extension": ".py",
   "mimetype": "text/x-python",
   "name": "python",
   "nbconvert_exporter": "python",
   "pygments_lexer": "ipython3",
   "version": "3.7.0"
  }
 },
 "nbformat": 4,
 "nbformat_minor": 2
}
